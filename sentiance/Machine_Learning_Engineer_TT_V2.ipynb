{
 "cells": [
  {
   "cell_type": "markdown",
   "metadata": {},
   "source": [
    "## Guidelines\n",
    "Please complete the assignment inside this notebook. Make sure the code can be executed easily.\n",
    "\n",
    "- For question 1 and 2, \n",
    "    - write production-ready code using OOP when relevant.\n",
    "    - create simple unit tests for your code where applicable.\n",
    "    - add comments and documentation strings for important methods. \n",
    "    - discuss your design choices and discuss the complexity (Big O notation) of your solutions, both memory wise and performance wise. Provide map visualization when relevant\n",
    "    - Try to stick to the most popular scientific Python libraries.\n",
    "    - Use the provided csv files.\n",
    "- For question 2, use map vizualisastion\n",
    "- For question 3, no code implementation is needed"
   ]
  },
  {
   "cell_type": "markdown",
   "metadata": {},
   "source": [
    "## Input data for Q1 and Q2\n",
    "You should have received three csv files. Each csv-file represents the locations where a person was stationary for a certain amount of time. \n",
    "The csv-files contain the following fields:\n",
    "\n",
    "- Latitude: The latitude of the detected GPS coordinates Longitude: The longitude of the detected GPS coordinates\n",
    "- Timestamp: The start time of the stationary in the following format:\n",
    "    - YYYY = year\n",
    "    - MM = month of year\n",
    "    - dd = day of month\n",
    "    - HH=hourofday\n",
    "    - mm = minute of hour\n",
    "    - Z = timezone offset\n",
    "- Duration: The length of time the person was stationary (in milliseconds)\n",
    "    \n",
    "Questions 1 and 2 in this assignment are related to this data."
   ]
  },
  {
   "cell_type": "markdown",
   "metadata": {},
   "source": [
    "## Question 1: Data lookup\n",
    "Create a method that generates a lookup table allowing us to effiently check whether or not a user has ever visited a location even if the new location is not exactly the same as the visited location (some noise is added to the longitude/latitude pairs). Data to be used are in the provided csv files."
   ]
  },
  {
   "cell_type": "markdown",
   "metadata": {},
   "source": [
    "## Question 2: Home and work detection\n",
    "The goal of this question, is to design and implement an algorithm that allows us to distinguish the likely home locations of a user from his likely work locations.\n",
    "\n",
    "Note that a person might have multiple home and work locations, or might not have a work location at all. Also note that the data might be noise, incorrect and/or incomplete.\n",
    "\n",
    "Discuss your choice of algorithms, rules, methods, distance measures, etc.\n",
    "\n",
    "Data to be used are in the provided csv files."
   ]
  },
  {
   "cell_type": "markdown",
   "metadata": {},
   "source": [
    "## Question 3: Design a data refresh system\n",
    "Have a look at the Foursquare API, more specifically, the Venues search route at\n",
    "https://developer.foursquare.com/docs/venues/search\n",
    "Design a system that can receive a location fix (as a [latitude, longitude, accuracy] mobile GPS fix) and run\n",
    "an algorithm to find the actual venue a user has visited using Foursquare as a venues-database. The design\n",
    "should minimize the use of calls to the Foursquare API and include a way to refresh Foursquare results as\n",
    "data retrieved from Foursquare can only be kept for a maximum of 30 days.\n",
    "\n",
    "Keep in mind the definition of accuracy for a mobile GPS fix. Accuracy is represented in meter and means\n",
    "that there is a 68% probability that a user is within a radius of that amount of meter around the provided\n",
    "[latitude, longitude] coordinates. See Android docs:\n",
    "https://developer.android.com/reference/android/location/Location.html#getAccuracy()\n",
    "\n",
    "Additionally, visiting a place is highly unlikely to yield the exact same locations (again as [latitude, longitude]\n",
    "pairs) on consecutive visits. Small variations are to be expected.\n",
    "\n",
    "The goal of this assignment is to explain the software/systems design for this component. Please\n",
    "provide one or more diagrams and accompanying text.\n",
    "Note: The algorithm to map a location to a venue from a list of candidates can be considered as given.\n",
    "\n",
    "For bonus points: provide your ideas on what this algorithm could look like."
   ]
  },
  {
   "cell_type": "code",
   "execution_count": null,
   "metadata": {},
   "outputs": [],
   "source": [
    "#try to incorporate kafka/ data eng stuff here\n",
    "\n",
    "#\n",
    "\n",
    "To \n"
   ]
  }
 ],
 "metadata": {
  "kernelspec": {
   "display_name": "Python 3",
   "language": "python",
   "name": "python3"
  },
  "language_info": {
   "codemirror_mode": {
    "name": "ipython",
    "version": 3
   },
   "file_extension": ".py",
   "mimetype": "text/x-python",
   "name": "python",
   "nbconvert_exporter": "python",
   "pygments_lexer": "ipython3",
   "version": "3.7.7"
  }
 },
 "nbformat": 4,
 "nbformat_minor": 1
}
